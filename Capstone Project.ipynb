{
    "cells": [
        {
            "cell_type": "markdown",
            "metadata": {},
            "source": "\n\n"
        },
        {
            "cell_type": "code",
            "execution_count": null,
            "metadata": {
                "scrolled": false
            },
            "outputs": [],
            "source": "Problem Statement: An Allstate employee's working in the claims department in Roseville CA will have their job relocated to Chandler, AZ\n\nWhen a job is relocated from one state to another, it can be a huge adjustment. It would be very helpful to determine which cities in the new\nlocation are similar to the current city you are moving from.  This can minimize the anxiety of change and help choosing specific city for housing that\nfeels more like home."
        },
        {
            "cell_type": "code",
            "execution_count": null,
            "metadata": {},
            "outputs": [],
            "source": "We will look at the top cities located a minimum of 10 miles from current job location as well as the relocation destination.\nWe will find these cities on https://www.distantias.com\n\nThe follwing site will be used to get the Latitude and Longitude for selected citied\nhttp://www.lat-long.com\n\nWe will then look at foursquare venue details surrounding the curren and relcoation cities and make comparisons to choose a city to find housing.\n"
        },
        {
            "cell_type": "code",
            "execution_count": null,
            "metadata": {},
            "outputs": [],
            "source": ""
        },
        {
            "cell_type": "code",
            "execution_count": null,
            "metadata": {},
            "outputs": [],
            "source": ""
        },
        {
            "cell_type": "code",
            "execution_count": null,
            "metadata": {},
            "outputs": [],
            "source": ""
        },
        {
            "cell_type": "code",
            "execution_count": null,
            "metadata": {},
            "outputs": [],
            "source": ""
        }
    ],
    "metadata": {
        "kernelspec": {
            "display_name": "Python 3.6",
            "language": "python",
            "name": "python3"
        },
        "language_info": {
            "codemirror_mode": {
                "name": "ipython",
                "version": 3
            },
            "file_extension": ".py",
            "mimetype": "text/x-python",
            "name": "python",
            "nbconvert_exporter": "python",
            "pygments_lexer": "ipython3",
            "version": "3.6.8"
        }
    },
    "nbformat": 4,
    "nbformat_minor": 1
}