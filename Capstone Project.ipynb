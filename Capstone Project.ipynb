{
    "cells": [
        {
            "cell_type": "markdown",
            "metadata": {},
            "source": "\n\n"
        },
        {
            "cell_type": "markdown",
            "metadata": {
                "scrolled": false
            },
            "source": "PROBLEM STATEMENT\n\nMany companies relocate jobs to improve their profitability sitiuation on a regular basis.  Job relocation for employees can be an upsetting\nscenario for them as well as their family.  It would be helpful for affected employees who have decided to relocate with job to be able to evaluate the surrounding cities to determine which is the best city to move to that would cause the least disruption to family and their way of life.\n\nThe solution to this problem would be beneficial to any employee who's job is being relocated to a new state.  This information can\nminimize the effects of this level of change to a families life.\n\nThe company's relocation plans will go smoother when employees can make a quick & comfortable adjustment to a new location as well as the employees family."
        },
        {
            "cell_type": "code",
            "execution_count": null,
            "metadata": {},
            "outputs": [],
            "source": "We will look at the top cities located a minimum of 10 miles from current job location as well as the relocation destination.\nWe will find these cities on https://www.distantias.com\n\nThe follwing site will be used to get the Latitude and Longitude for selected citied\nhttp://www.lat-long.com\n\nWe will then look at foursquare venue details surrounding the curren and relcoation cities and make comparisons to choose a city to find housing.\n"
        },
        {
            "cell_type": "code",
            "execution_count": null,
            "metadata": {},
            "outputs": [],
            "source": "\nTown\tmi.\tArea\tLatitude\tLongitude\n0\tScottsdale\t12.95\tArizona\t33.501324\t-111.925278\n1\tQueen Creek\t15.38\tArizona\t33.253044\t-111.646500\n2\tSacaton\t15.56\tArizona\t33.076720\t-111.739300\n3\tParadise Valley\t17.25\tArizona\t33.531154\t-111.942645\n4\tFountain Hills\t19.95\tArizona\t33.603374\t-111.730782"
        },
        {
            "cell_type": "code",
            "execution_count": null,
            "metadata": {},
            "outputs": [],
            "source": "\nTown\tmi.\tArea\tLatitude\tLongitude\n0\tFair Oaks\t12.95\tCalifornia\t38.644626\t-121.272172\n1\tLoomis\t15.38\tCalifornia\t38.809220\t-121.195540\n2\tFolsom\t15.56\tCalifornia\t38.677959\t-121.176058\n3\tNorth Highlands\t17.25\tCalifornia\t38.685736\t-121.372174\n4\tPenryn\t19.95\tCalifornia\t38.852122\t-121.169393"
        },
        {
            "cell_type": "code",
            "execution_count": null,
            "metadata": {},
            "outputs": [],
            "source": "The data in this problem will be pulled from several sources\n\nBoth the to and from location will look at 5 cities greater than 10 miles from the origin state\nThese cities will be scraped from the following website: \"https://www.distantias.com\"\n\nThese states will be mapped by their Latitude and Longitude values for selected cities from\nthis site http://www.lat-long.com\n\nTown\tmi.\tArea\tLatitude\tLongitude\n0\tScottsdale\t12.95\tArizona\t33.501324\t-111.925278\n1\tQueen Creek\t15.38\tArizona\t33.253044\t-111.646500\n2\tSacaton\t15.56\tArizona\t33.076720\t-111.739300\n3\tParadise Valley\t17.25\tArizona\t33.531154\t-111.942645\n4\tFountain Hills\t19.95\tArizona\t33.603374\t-111.730782\n\nTown\tmi.\tArea\tLatitude\tLongitude\n0\tFair Oaks\t12.95\tCalifornia\t38.644626\t-121.272172\n1\tLoomis\t15.38\tCalifornia\t38.809220\t-121.195540\n2\tFolsom\t15.56\tCalifornia\t38.677959\t-121.176058\n3\tNorth Highlands\t17.25\tCalifornia\t38.685736\t-121.372174\n4\tPenryn\t19.95\tCalifornia\t38.852122\t-121.169393\n\nWe will then look at foursquare venue details surrounding the current and relcoation cities \nto look at popular venues & categories and use them to make comparisons between origin city and\nrelocation city."
        },
        {
            "cell_type": "code",
            "execution_count": null,
            "metadata": {},
            "outputs": [],
            "source": "\n{'meta': {'code': 200, 'requestId': '5e0a3928f7706a001b68ffb4'},\n 'response': {'suggestedFilters': {'header': 'Tap to show:',\n   'filters': [{'name': 'Open now', 'key': 'openNow'},\n    {'name': '$-$$$$', 'key': 'price'}]},\n  'headerLocation': 'Downtown Chandler',\n  'headerFullLocation': 'Downtown Chandler, Chandler',\n  'headerLocationGranularity': 'neighborhood',\n  'totalResults': 38,\n  'suggestedBounds': {'ne': {'lat': 33.310722304500004,\n    'lng': -111.83595734802682},\n   'sw': {'lat': 33.3017222955, 'lng': -111.84670605197317}},\n  'groups': [{'type': 'Recommended Places',\n    'name': 'recommended',\n    'items': [{'reasons': {'count': 0,\n       'items': [{'summary': 'This spot is popular',\n         'type': 'general',\n         'reasonName': 'globalInteractionReason'}]},\n      'venue': {'id': '4b8d77aaf964a5206cfd32e3',\n       'name': 'Chandler Center for the Arts',\n       'location': {'address': '250 N Arizona Ave',\n        'crossStreet': 'at E. Chandler Blvd.',\n        'lat': 33.30745402671831,\n        'lng': -111.84215246969697,\n        'labeledLatLngs': [{'label': 'display',\n          'lat': 33.30745402671831,\n          'lng': -111.84215246969697}],\n        'distance': 156,\n        'postalCode': '85225',\n        'cc': 'US',\n        'city': 'Chandler',\n        'state': 'AZ',\n        'country': 'United States',\n        'formattedAddress': ['250 N Arizona Ave (at E. Chandler Blvd.)',\n         'Chandler, AZ 85225',\n         'United States']},"
        }
    ],
    "metadata": {
        "kernelspec": {
            "display_name": "Python 3.6",
            "language": "python",
            "name": "python3"
        },
        "language_info": {
            "codemirror_mode": {
                "name": "ipython",
                "version": 3
            },
            "file_extension": ".py",
            "mimetype": "text/x-python",
            "name": "python",
            "nbconvert_exporter": "python",
            "pygments_lexer": "ipython3",
            "version": "3.6.8"
        }
    },
    "nbformat": 4,
    "nbformat_minor": 1
}